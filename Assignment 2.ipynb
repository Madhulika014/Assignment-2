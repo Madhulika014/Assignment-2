{
 "cells": [
  {
   "cell_type": "code",
   "execution_count": 1,
   "id": "86cd79bd",
   "metadata": {},
   "outputs": [
    {
     "name": "stdout",
     "output_type": "stream",
     "text": [
      "your first name : madhulika\n",
      "your last name : dayal\n",
      "Full Name: madhulika dayal\n",
      "mduiadyl\n"
     ]
    }
   ],
   "source": [
    "#Function to take two strings from the user \n",
    "def fullname(x,y):\n",
    "    return x+\" \"+y\n",
    "\n",
    "#Function that returns every other char in the full_name string\n",
    "def string_alternative(z):\n",
    "    return z[::2]\n",
    "\n",
    "#taking input and assigning to variables\n",
    "First_name = input(\"your first name : \")\n",
    "last_name = input(\"your last name : \")\n",
    "\n",
    "#Calling fullname function\n",
    "Full_name= fullname(First_name,last_name)\n",
    "\n",
    "#Printing Full Name\n",
    "print(\"Full Name: \"+Full_name)\n",
    "\n",
    "#Calling string_alternative and printing the same\n",
    "print(string_alternative(Full_name))"
   ]
  },
  {
   "cell_type": "code",
   "execution_count": 6,
   "id": "797fd579",
   "metadata": {},
   "outputs": [
    {
     "name": "stdout",
     "output_type": "stream",
     "text": [
      "\n",
      "Python Course\n",
      "Deep Learning Course \n",
      "Word_Count: \n",
      "\n",
      "Python: 1\n",
      "Course: 2\n",
      "Deep: 1\n",
      "Learning: 1\n"
     ]
    }
   ],
   "source": [
    "#defining a empty string\n",
    "st = \"\"\n",
    "\n",
    "#defining a function to count occurances of each word\n",
    "def wordcount(st):\n",
    "    counts = dict()\n",
    "    w = st.split()\n",
    "    for y in w:\n",
    "        if y in counts:\n",
    "            counts[y]+=1\n",
    "        else:\n",
    "            counts[y]=1\n",
    "    return counts\n",
    "#reading input.txt file and adding it to st variable\n",
    "with open(r'input.txt','r') as file:\n",
    "    data = file.read()\n",
    "    st +=data\n",
    "\n",
    "#calling wordcount function\n",
    "a=str(wordcount(st))\n",
    "st+=\"\\nWord_Count: \\n\"\n",
    "st+=a\n",
    "\n",
    "#replacing string to get required output\n",
    "st = st.replace(\"{\",\"\")\n",
    "st = st.replace(\"}\",\"\")\n",
    "st = st.replace(\"'\",\"\")\n",
    "st = st.replace(\"P\",\"\\nP\")\n",
    "st = st.replace(\", \",\"\\n\")\n",
    "print(st)\n",
    "\n",
    "#opening and writing to the file\n",
    "outputfile = open(r'output.txt','w')\n",
    "outputfile.write(st)\n",
    "\n",
    "#closing of txt files\n",
    "outputfile.close()\n",
    "file.close()\n"
   ]
  },
  {
   "cell_type": "code",
   "execution_count": 5,
   "id": "cdfe033f",
   "metadata": {},
   "outputs": [
    {
     "name": "stdout",
     "output_type": "stream",
     "text": [
      "L1 :  [150, 155, 145, 148]\n",
      "Output:  [381.0, 393.7, 368.3, 375.92]\n"
     ]
    }
   ],
   "source": [
    "def inch_cnt(inches_list):\n",
    "  # using for loop\n",
    "  print(\"L1 : \",inches_list)\n",
    "  heights_centims = []\n",
    "  for i in inches_list:\n",
    "    heights_centims.append(i*2.54)\n",
    "  return heights_centims\n",
    "\n",
    "print(\"Output: \",inch_cnt([150,155,145,148]))"
   ]
  },
  {
   "cell_type": "code",
   "execution_count": null,
   "id": "11af18c0",
   "metadata": {},
   "outputs": [],
   "source": []
  }
 ],
 "metadata": {
  "kernelspec": {
   "display_name": "Python 3 (ipykernel)",
   "language": "python",
   "name": "python3"
  },
  "language_info": {
   "codemirror_mode": {
    "name": "ipython",
    "version": 3
   },
   "file_extension": ".py",
   "mimetype": "text/x-python",
   "name": "python",
   "nbconvert_exporter": "python",
   "pygments_lexer": "ipython3",
   "version": "3.11.4"
  }
 },
 "nbformat": 4,
 "nbformat_minor": 5
}
